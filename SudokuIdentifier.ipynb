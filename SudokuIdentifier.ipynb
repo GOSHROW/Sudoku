{
  "nbformat": 4,
  "nbformat_minor": 0,
  "metadata": {
    "colab": {
      "name": "SudokuIdentifier.ipynb",
      "provenance": []
    },
    "kernelspec": {
      "name": "python3",
      "display_name": "Python 3"
    }
  },
  "cells": [
    {
      "cell_type": "code",
      "metadata": {
        "id": "WmksxyQvfZ63",
        "colab_type": "code",
        "colab": {}
      },
      "source": [
        "import numpy as np\n",
        "import cv2\n",
        "import keras\n",
        "\n",
        "# The model's code provided ahead has been created with support from github.com/surya-veer"
      ],
      "execution_count": 0,
      "outputs": []
    },
    {
      "cell_type": "code",
      "metadata": {
        "id": "-fVzVtYIiqCX",
        "colab_type": "code",
        "colab": {
          "base_uri": "https://localhost:8080/",
          "height": 34
        },
        "outputId": "dd05e145-36f8-4fac-8f17-ae994af70033"
      },
      "source": [
        "\n",
        "\n",
        "(xTrain, yTrain), (xTest, yTest) = keras.datasets.mnist.load_data()\n",
        "print(xTrain.shape, yTrain.shape, xTest.shape, yTest.shape)\n",
        "\n",
        "_,xTrain_th = cv2.threshold(xTrain,127,255,cv2.THRESH_BINARY)\n",
        "_,xTest_th = cv2.threshold(xTest,127,255,cv2.THRESH_BINARY)\n",
        "\n"
      ],
      "execution_count": 87,
      "outputs": [
        {
          "output_type": "stream",
          "text": [
            "(60000, 28, 28) (60000,) (10000, 28, 28) (10000,)\n"
          ],
          "name": "stdout"
        }
      ]
    },
    {
      "cell_type": "code",
      "metadata": {
        "id": "zGuX98K-it7X",
        "colab_type": "code",
        "colab": {
          "base_uri": "https://localhost:8080/",
          "height": 52
        },
        "outputId": "39ef5c6f-5e3a-41aa-e336-3446b3b9c092"
      },
      "source": [
        "xTrain = xTrain_th.reshape(-1,28,28,1)\n",
        "xTest = xTest_th.reshape(-1,28,28,1)\n",
        "\n",
        "\n",
        "yTrain = keras.utils.to_categorical(yTrain, num_classes = 10)\n",
        "yTest = keras.utils.to_categorical(yTest, num_classes = 10)\n",
        "\n",
        "\n",
        "print(xTrain.shape, yTrain.shape)\n",
        "print(xTest.shape, yTest.shape)\n",
        "\n"
      ],
      "execution_count": 77,
      "outputs": [
        {
          "output_type": "stream",
          "text": [
            "(60000, 28, 28, 1) (60000, 10)\n",
            "(10000, 28, 28, 1) (10000, 10)\n"
          ],
          "name": "stdout"
        }
      ]
    },
    {
      "cell_type": "code",
      "metadata": {
        "id": "tRNGbfbEizRe",
        "colab_type": "code",
        "colab": {}
      },
      "source": [
        "\n",
        "input_shape = (28,28,1)\n",
        "number_of_classes = 10\n",
        "\n",
        "model = keras.models.Sequential()\n",
        "model.add(keras.layers.Conv2D(32, kernel_size=(3, 3), keras.layers.core.activation='relu', input_shape=input_shape))\n",
        "\n",
        "model.add(keras.layers.Conv2D(64, (3, 3), keras.layers.core.activation='relu'))\n",
        "model.add(keras.layers.MaxPool2D(pool_size=(2, 2)))\n",
        "\n",
        "model.add(keras.layers.core.Dropout(0.25))\n",
        "model.add(keras.layers.core.Flatten())\n",
        "model.add(keras.layers.core.Dense(128, keras.layers.core.activation='relu'))\n",
        "\n",
        "model.add(keras.layers.core.Dropout(0.5))\n",
        "model.add(keras.layers.core.Dense(number_of_classes, keras.layers.core.activation='softmax'))"
      ],
      "execution_count": 0,
      "outputs": []
    },
    {
      "cell_type": "code",
      "metadata": {
        "id": "MMvyg4Jei3zu",
        "colab_type": "code",
        "colab": {
          "base_uri": "https://localhost:8080/",
          "height": 629
        },
        "outputId": "8aedf6e7-a0f6-46db-943a-c358298698bf"
      },
      "source": [
        "model.compile(loss=keras.losses.categorical_crossentropy,\n",
        "              optimizer=keras.optimizers.Adadelta(),\n",
        "              metrics=['accuracy'])\n",
        "\n",
        "model.summary()\n",
        "\n",
        "history = model.fit(xTrain, yTrain,\n",
        "                    epochs=5, shuffle=True,\n",
        "                    batch_size = 200,\n",
        "                    validation_data= (xTest, yTest))\n",
        "\n",
        "model.save('GOSHROWDigitClassifier.h5')"
      ],
      "execution_count": 81,
      "outputs": [
        {
          "output_type": "stream",
          "text": [
            "Model: \"sequential_12\"\n",
            "_________________________________________________________________\n",
            "Layer (type)                 Output Shape              Param #   \n",
            "=================================================================\n",
            "conv2d_23 (Conv2D)           (None, 26, 26, 32)        320       \n",
            "_________________________________________________________________\n",
            "conv2d_24 (Conv2D)           (None, 24, 24, 64)        18496     \n",
            "_________________________________________________________________\n",
            "max_pooling2d_12 (MaxPooling (None, 12, 12, 64)        0         \n",
            "_________________________________________________________________\n",
            "dropout_24 (Dropout)         (None, 12, 12, 64)        0         \n",
            "_________________________________________________________________\n",
            "flatten_13 (Flatten)         (None, 9216)              0         \n",
            "_________________________________________________________________\n",
            "dense_23 (Dense)             (None, 128)               1179776   \n",
            "_________________________________________________________________\n",
            "dropout_25 (Dropout)         (None, 128)               0         \n",
            "_________________________________________________________________\n",
            "dense_24 (Dense)             (None, 10)                1290      \n",
            "=================================================================\n",
            "Total params: 1,199,882\n",
            "Trainable params: 1,199,882\n",
            "Non-trainable params: 0\n",
            "_________________________________________________________________\n",
            "Train on 60000 samples, validate on 10000 samples\n",
            "Epoch 1/5\n",
            "60000/60000 [==============================] - 139s 2ms/step - loss: 1.4050 - accuracy: 0.8020 - val_loss: 0.1001 - val_accuracy: 0.9714\n",
            "Epoch 2/5\n",
            "60000/60000 [==============================] - 142s 2ms/step - loss: 0.1744 - accuracy: 0.9496 - val_loss: 0.0701 - val_accuracy: 0.9791\n",
            "Epoch 3/5\n",
            "60000/60000 [==============================] - 139s 2ms/step - loss: 0.1159 - accuracy: 0.9671 - val_loss: 0.0607 - val_accuracy: 0.9818\n",
            "Epoch 4/5\n",
            "60000/60000 [==============================] - 140s 2ms/step - loss: 0.0952 - accuracy: 0.9725 - val_loss: 0.0504 - val_accuracy: 0.9845\n",
            "Epoch 5/5\n",
            "60000/60000 [==============================] - 139s 2ms/step - loss: 0.0724 - accuracy: 0.9780 - val_loss: 0.0522 - val_accuracy: 0.9842\n"
          ],
          "name": "stdout"
        }
      ]
    },
    {
      "cell_type": "code",
      "metadata": {
        "id": "6JYI7W4mi9Zq",
        "colab_type": "code",
        "colab": {}
      },
      "source": [
        "!pip install -U -q PyDrive\n",
        "from pydrive.auth import GoogleAuth\n",
        "from pydrive.drive import GoogleDrive\n",
        "from google.colab import auth\n",
        "from oauth2client.client import GoogleCredentials\n",
        "\n",
        "auth.authenticate_user()\n",
        "gauth = GoogleAuth()\n",
        "gauth.credentials = GoogleCredentials.get_application_default()\n",
        "drive = GoogleDrive(gauth)"
      ],
      "execution_count": 0,
      "outputs": []
    },
    {
      "cell_type": "code",
      "metadata": {
        "id": "30zAEhEOvjYn",
        "colab_type": "code",
        "colab": {
          "base_uri": "https://localhost:8080/",
          "height": 34
        },
        "outputId": "e9e25f15-c8a0-40f5-dd38-857de258a31b"
      },
      "source": [
        "uploaded = drive.CreateFile({'title': 'GOSHROWDigitClassifier.h5'})\n",
        "uploaded.SetContentFile('GOSHROWDigitClassifier.h5')\n",
        "uploaded.Upload()\n",
        "print('Uploaded file with ID {}'.format(uploaded.get('id')))"
      ],
      "execution_count": 85,
      "outputs": [
        {
          "output_type": "stream",
          "text": [
            "Uploaded file with ID 1K0RU7otB7NbjuthqTLUT70stCRD3ywRM\n"
          ],
          "name": "stdout"
        }
      ]
    },
    {
      "cell_type": "code",
      "metadata": {
        "id": "szmRpf6p0fUA",
        "colab_type": "code",
        "colab": {}
      },
      "source": [
        ""
      ],
      "execution_count": 0,
      "outputs": []
    }
  ]
}